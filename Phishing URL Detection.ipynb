{
 "cells": [
  {
   "cell_type": "markdown",
   "id": "f41546c8",
   "metadata": {},
   "source": [
    "# Phishing URL Detection "
   ]
  },
  {
   "cell_type": "markdown",
   "id": "86acf7a9",
   "metadata": {},
   "source": [
    "The steps demonstrated in this notebook are:\n",
    "\n",
    "1. Loading the data\n",
    "2. Familiarizing with data & EDA\n",
    "3. Visualizing the data\n",
    "4. Splitting the data\n",
    "5. Training the data\n",
    "6. Comparision of Model"
   ]
  },
  {
   "cell_type": "code",
   "execution_count": 1,
   "id": "51ca7313",
   "metadata": {},
   "outputs": [],
   "source": [
    "#importing required libraries\n",
    "\n",
    "import numpy as np\n",
    "import pandas as pd\n",
    "import matplotlib.pyplot as plt\n",
    "%matplotlib inline\n",
    "import seaborn as sns\n",
    "from sklearn import metrics \n",
    "import warnings\n",
    "warnings.filterwarnings('ignore')"
   ]
  },
  {
   "cell_type": "markdown",
   "id": "7db94f12",
   "metadata": {},
   "source": [
    "## 1. Loading Data"
   ]
  },
  {
   "cell_type": "code",
   "execution_count": 2,
   "id": "ec491f22",
   "metadata": {
    "scrolled": true
   },
   "outputs": [
    {
     "data": {
      "text/html": [
       "<div>\n",
       "<style scoped>\n",
       "    .dataframe tbody tr th:only-of-type {\n",
       "        vertical-align: middle;\n",
       "    }\n",
       "\n",
       "    .dataframe tbody tr th {\n",
       "        vertical-align: top;\n",
       "    }\n",
       "\n",
       "    .dataframe thead th {\n",
       "        text-align: right;\n",
       "    }\n",
       "</style>\n",
       "<table border=\"1\" class=\"dataframe\">\n",
       "  <thead>\n",
       "    <tr style=\"text-align: right;\">\n",
       "      <th></th>\n",
       "      <th>Index</th>\n",
       "      <th>UsingIP</th>\n",
       "      <th>LongURL</th>\n",
       "      <th>ShortURL</th>\n",
       "      <th>Symbol@</th>\n",
       "      <th>Redirecting//</th>\n",
       "      <th>PrefixSuffix-</th>\n",
       "      <th>SubDomains</th>\n",
       "      <th>HTTPS</th>\n",
       "      <th>HTTPSDomainURL</th>\n",
       "      <th>...</th>\n",
       "      <th>DisableRightClick</th>\n",
       "      <th>UsingPopupWindow</th>\n",
       "      <th>IframeRedirection</th>\n",
       "      <th>AgeofDomain</th>\n",
       "      <th>DNSRecording</th>\n",
       "      <th>WebsiteTraffic</th>\n",
       "      <th>PageRank</th>\n",
       "      <th>GoogleIndex</th>\n",
       "      <th>LinksPointingToPage</th>\n",
       "      <th>class</th>\n",
       "    </tr>\n",
       "  </thead>\n",
       "  <tbody>\n",
       "    <tr>\n",
       "      <th>0</th>\n",
       "      <td>1</td>\n",
       "      <td>1</td>\n",
       "      <td>1</td>\n",
       "      <td>1</td>\n",
       "      <td>1</td>\n",
       "      <td>1</td>\n",
       "      <td>-1</td>\n",
       "      <td>0</td>\n",
       "      <td>1</td>\n",
       "      <td>-1</td>\n",
       "      <td>...</td>\n",
       "      <td>1</td>\n",
       "      <td>1</td>\n",
       "      <td>1</td>\n",
       "      <td>-1</td>\n",
       "      <td>-1</td>\n",
       "      <td>0</td>\n",
       "      <td>-1</td>\n",
       "      <td>1</td>\n",
       "      <td>1</td>\n",
       "      <td>-1</td>\n",
       "    </tr>\n",
       "    <tr>\n",
       "      <th>1</th>\n",
       "      <td>2</td>\n",
       "      <td>1</td>\n",
       "      <td>0</td>\n",
       "      <td>1</td>\n",
       "      <td>1</td>\n",
       "      <td>1</td>\n",
       "      <td>-1</td>\n",
       "      <td>-1</td>\n",
       "      <td>-1</td>\n",
       "      <td>-1</td>\n",
       "      <td>...</td>\n",
       "      <td>1</td>\n",
       "      <td>1</td>\n",
       "      <td>1</td>\n",
       "      <td>1</td>\n",
       "      <td>-1</td>\n",
       "      <td>1</td>\n",
       "      <td>-1</td>\n",
       "      <td>1</td>\n",
       "      <td>0</td>\n",
       "      <td>-1</td>\n",
       "    </tr>\n",
       "    <tr>\n",
       "      <th>2</th>\n",
       "      <td>3</td>\n",
       "      <td>1</td>\n",
       "      <td>0</td>\n",
       "      <td>1</td>\n",
       "      <td>1</td>\n",
       "      <td>1</td>\n",
       "      <td>-1</td>\n",
       "      <td>-1</td>\n",
       "      <td>-1</td>\n",
       "      <td>-1</td>\n",
       "      <td>...</td>\n",
       "      <td>1</td>\n",
       "      <td>1</td>\n",
       "      <td>1</td>\n",
       "      <td>-1</td>\n",
       "      <td>-1</td>\n",
       "      <td>1</td>\n",
       "      <td>-1</td>\n",
       "      <td>1</td>\n",
       "      <td>-1</td>\n",
       "      <td>-1</td>\n",
       "    </tr>\n",
       "    <tr>\n",
       "      <th>3</th>\n",
       "      <td>4</td>\n",
       "      <td>1</td>\n",
       "      <td>0</td>\n",
       "      <td>-1</td>\n",
       "      <td>1</td>\n",
       "      <td>1</td>\n",
       "      <td>-1</td>\n",
       "      <td>1</td>\n",
       "      <td>1</td>\n",
       "      <td>1</td>\n",
       "      <td>...</td>\n",
       "      <td>1</td>\n",
       "      <td>-1</td>\n",
       "      <td>1</td>\n",
       "      <td>-1</td>\n",
       "      <td>-1</td>\n",
       "      <td>0</td>\n",
       "      <td>-1</td>\n",
       "      <td>1</td>\n",
       "      <td>1</td>\n",
       "      <td>1</td>\n",
       "    </tr>\n",
       "    <tr>\n",
       "      <th>4</th>\n",
       "      <td>5</td>\n",
       "      <td>-1</td>\n",
       "      <td>0</td>\n",
       "      <td>-1</td>\n",
       "      <td>1</td>\n",
       "      <td>-1</td>\n",
       "      <td>-1</td>\n",
       "      <td>1</td>\n",
       "      <td>1</td>\n",
       "      <td>-1</td>\n",
       "      <td>...</td>\n",
       "      <td>1</td>\n",
       "      <td>1</td>\n",
       "      <td>1</td>\n",
       "      <td>1</td>\n",
       "      <td>1</td>\n",
       "      <td>1</td>\n",
       "      <td>-1</td>\n",
       "      <td>1</td>\n",
       "      <td>-1</td>\n",
       "      <td>1</td>\n",
       "    </tr>\n",
       "  </tbody>\n",
       "</table>\n",
       "<p>5 rows × 25 columns</p>\n",
       "</div>"
      ],
      "text/plain": [
       "   Index  UsingIP  LongURL  ShortURL  Symbol@  Redirecting//  PrefixSuffix-  \\\n",
       "0      1        1        1         1        1              1             -1   \n",
       "1      2        1        0         1        1              1             -1   \n",
       "2      3        1        0         1        1              1             -1   \n",
       "3      4        1        0        -1        1              1             -1   \n",
       "4      5       -1        0        -1        1             -1             -1   \n",
       "\n",
       "   SubDomains  HTTPS  HTTPSDomainURL  ...  DisableRightClick  \\\n",
       "0           0      1              -1  ...                  1   \n",
       "1          -1     -1              -1  ...                  1   \n",
       "2          -1     -1              -1  ...                  1   \n",
       "3           1      1               1  ...                  1   \n",
       "4           1      1              -1  ...                  1   \n",
       "\n",
       "   UsingPopupWindow  IframeRedirection  AgeofDomain  DNSRecording  \\\n",
       "0                 1                  1           -1            -1   \n",
       "1                 1                  1            1            -1   \n",
       "2                 1                  1           -1            -1   \n",
       "3                -1                  1           -1            -1   \n",
       "4                 1                  1            1             1   \n",
       "\n",
       "   WebsiteTraffic  PageRank  GoogleIndex  LinksPointingToPage  class  \n",
       "0               0        -1            1                    1     -1  \n",
       "1               1        -1            1                    0     -1  \n",
       "2               1        -1            1                   -1     -1  \n",
       "3               0        -1            1                    1      1  \n",
       "4               1        -1            1                   -1      1  \n",
       "\n",
       "[5 rows x 25 columns]"
      ]
     },
     "execution_count": 2,
     "metadata": {},
     "output_type": "execute_result"
    }
   ],
   "source": [
    "#Loading data into dataframe\n",
    "\n",
    "df1 = pd.read_csv(\"phishing.csv\")\n",
    "df1.head()"
   ]
  },
  {
   "cell_type": "markdown",
   "id": "0413b490",
   "metadata": {},
   "source": [
    "## 2. Familiarizing with Data & EDA:\n",
    "In this step, few dataframe methods are used to look into the data and its features."
   ]
  },
  {
   "cell_type": "code",
   "execution_count": 3,
   "id": "d2c6332a",
   "metadata": {},
   "outputs": [
    {
     "data": {
      "text/plain": [
       "(96576, 25)"
      ]
     },
     "execution_count": 3,
     "metadata": {},
     "output_type": "execute_result"
    }
   ],
   "source": [
    "df1.shape"
   ]
  },
  {
   "cell_type": "code",
   "execution_count": 4,
   "id": "9ccdddc5",
   "metadata": {},
   "outputs": [],
   "source": [
    "#Shape of dataframe\n",
    "data=df1.iloc[0:11055,:]"
   ]
  },
  {
   "cell_type": "code",
   "execution_count": 5,
   "id": "c1e2ca3b",
   "metadata": {},
   "outputs": [
    {
     "data": {
      "text/plain": [
       "Index(['Index', 'UsingIP', 'LongURL', 'ShortURL', 'Symbol@', 'Redirecting//',\n",
       "       'PrefixSuffix-', 'SubDomains', 'HTTPS', 'HTTPSDomainURL', 'RequestURL',\n",
       "       'AnchorURL', 'InfoEmail', 'AbnormalURL', 'WebsiteForwarding',\n",
       "       'DisableRightClick', 'UsingPopupWindow', 'IframeRedirection',\n",
       "       'AgeofDomain', 'DNSRecording', 'WebsiteTraffic', 'PageRank',\n",
       "       'GoogleIndex', 'LinksPointingToPage', 'class'],\n",
       "      dtype='object')"
      ]
     },
     "execution_count": 5,
     "metadata": {},
     "output_type": "execute_result"
    }
   ],
   "source": [
    "#Listing the features of the dataset\n",
    "data.columns"
   ]
  },
  {
   "cell_type": "code",
   "execution_count": 6,
   "id": "8ec005bb",
   "metadata": {},
   "outputs": [
    {
     "name": "stdout",
     "output_type": "stream",
     "text": [
      "<class 'pandas.core.frame.DataFrame'>\n",
      "RangeIndex: 96576 entries, 0 to 96575\n",
      "Data columns (total 25 columns):\n",
      " #   Column               Non-Null Count  Dtype\n",
      "---  ------               --------------  -----\n",
      " 0   Index                96576 non-null  int64\n",
      " 1   UsingIP              96576 non-null  int64\n",
      " 2   LongURL              96576 non-null  int64\n",
      " 3   ShortURL             96576 non-null  int64\n",
      " 4   Symbol@              96576 non-null  int64\n",
      " 5   Redirecting//        96576 non-null  int64\n",
      " 6   PrefixSuffix-        96576 non-null  int64\n",
      " 7   SubDomains           96576 non-null  int64\n",
      " 8   HTTPS                96576 non-null  int64\n",
      " 9   HTTPSDomainURL       96576 non-null  int64\n",
      " 10  RequestURL           96576 non-null  int64\n",
      " 11  AnchorURL            96576 non-null  int64\n",
      " 12  InfoEmail            96576 non-null  int64\n",
      " 13  AbnormalURL          96576 non-null  int64\n",
      " 14  WebsiteForwarding    96576 non-null  int64\n",
      " 15  DisableRightClick    96576 non-null  int64\n",
      " 16  UsingPopupWindow     96576 non-null  int64\n",
      " 17  IframeRedirection    96576 non-null  int64\n",
      " 18  AgeofDomain          96576 non-null  int64\n",
      " 19  DNSRecording         96576 non-null  int64\n",
      " 20  WebsiteTraffic       96576 non-null  int64\n",
      " 21  PageRank             96576 non-null  int64\n",
      " 22  GoogleIndex          96576 non-null  int64\n",
      " 23  LinksPointingToPage  96576 non-null  int64\n",
      " 24  class                96576 non-null  int64\n",
      "dtypes: int64(25)\n",
      "memory usage: 18.4 MB\n"
     ]
    }
   ],
   "source": [
    "#Information about the dataset\n",
    "\n",
    "df1.info()"
   ]
  },
  {
   "cell_type": "code",
   "execution_count": 7,
   "id": "d4c7df9b",
   "metadata": {},
   "outputs": [
    {
     "data": {
      "text/html": [
       "<div>\n",
       "<style scoped>\n",
       "    .dataframe tbody tr th:only-of-type {\n",
       "        vertical-align: middle;\n",
       "    }\n",
       "\n",
       "    .dataframe tbody tr th {\n",
       "        vertical-align: top;\n",
       "    }\n",
       "\n",
       "    .dataframe thead th {\n",
       "        text-align: right;\n",
       "    }\n",
       "</style>\n",
       "<table border=\"1\" class=\"dataframe\">\n",
       "  <thead>\n",
       "    <tr style=\"text-align: right;\">\n",
       "      <th></th>\n",
       "      <th>count</th>\n",
       "      <th>mean</th>\n",
       "      <th>std</th>\n",
       "      <th>min</th>\n",
       "      <th>25%</th>\n",
       "      <th>50%</th>\n",
       "      <th>75%</th>\n",
       "      <th>max</th>\n",
       "    </tr>\n",
       "  </thead>\n",
       "  <tbody>\n",
       "    <tr>\n",
       "      <th>Index</th>\n",
       "      <td>11055.0</td>\n",
       "      <td>5528.000000</td>\n",
       "      <td>3191.447947</td>\n",
       "      <td>1.0</td>\n",
       "      <td>2764.5</td>\n",
       "      <td>5528.0</td>\n",
       "      <td>8291.5</td>\n",
       "      <td>11055.0</td>\n",
       "    </tr>\n",
       "    <tr>\n",
       "      <th>UsingIP</th>\n",
       "      <td>11055.0</td>\n",
       "      <td>0.313976</td>\n",
       "      <td>0.949474</td>\n",
       "      <td>-1.0</td>\n",
       "      <td>-1.0</td>\n",
       "      <td>1.0</td>\n",
       "      <td>1.0</td>\n",
       "      <td>1.0</td>\n",
       "    </tr>\n",
       "    <tr>\n",
       "      <th>LongURL</th>\n",
       "      <td>11055.0</td>\n",
       "      <td>-0.633198</td>\n",
       "      <td>0.766095</td>\n",
       "      <td>-1.0</td>\n",
       "      <td>-1.0</td>\n",
       "      <td>-1.0</td>\n",
       "      <td>-1.0</td>\n",
       "      <td>1.0</td>\n",
       "    </tr>\n",
       "    <tr>\n",
       "      <th>ShortURL</th>\n",
       "      <td>11055.0</td>\n",
       "      <td>0.738761</td>\n",
       "      <td>0.673998</td>\n",
       "      <td>-1.0</td>\n",
       "      <td>1.0</td>\n",
       "      <td>1.0</td>\n",
       "      <td>1.0</td>\n",
       "      <td>1.0</td>\n",
       "    </tr>\n",
       "    <tr>\n",
       "      <th>Symbol@</th>\n",
       "      <td>11055.0</td>\n",
       "      <td>0.700588</td>\n",
       "      <td>0.713598</td>\n",
       "      <td>-1.0</td>\n",
       "      <td>1.0</td>\n",
       "      <td>1.0</td>\n",
       "      <td>1.0</td>\n",
       "      <td>1.0</td>\n",
       "    </tr>\n",
       "    <tr>\n",
       "      <th>Redirecting//</th>\n",
       "      <td>11055.0</td>\n",
       "      <td>0.741655</td>\n",
       "      <td>0.670811</td>\n",
       "      <td>-1.0</td>\n",
       "      <td>1.0</td>\n",
       "      <td>1.0</td>\n",
       "      <td>1.0</td>\n",
       "      <td>1.0</td>\n",
       "    </tr>\n",
       "    <tr>\n",
       "      <th>PrefixSuffix-</th>\n",
       "      <td>11055.0</td>\n",
       "      <td>-0.734962</td>\n",
       "      <td>0.678139</td>\n",
       "      <td>-1.0</td>\n",
       "      <td>-1.0</td>\n",
       "      <td>-1.0</td>\n",
       "      <td>-1.0</td>\n",
       "      <td>1.0</td>\n",
       "    </tr>\n",
       "    <tr>\n",
       "      <th>SubDomains</th>\n",
       "      <td>11055.0</td>\n",
       "      <td>0.064043</td>\n",
       "      <td>0.817456</td>\n",
       "      <td>-1.0</td>\n",
       "      <td>-1.0</td>\n",
       "      <td>0.0</td>\n",
       "      <td>1.0</td>\n",
       "      <td>1.0</td>\n",
       "    </tr>\n",
       "    <tr>\n",
       "      <th>HTTPS</th>\n",
       "      <td>11055.0</td>\n",
       "      <td>0.251108</td>\n",
       "      <td>0.911843</td>\n",
       "      <td>-1.0</td>\n",
       "      <td>-1.0</td>\n",
       "      <td>1.0</td>\n",
       "      <td>1.0</td>\n",
       "      <td>1.0</td>\n",
       "    </tr>\n",
       "    <tr>\n",
       "      <th>HTTPSDomainURL</th>\n",
       "      <td>11055.0</td>\n",
       "      <td>0.675079</td>\n",
       "      <td>0.737779</td>\n",
       "      <td>-1.0</td>\n",
       "      <td>1.0</td>\n",
       "      <td>1.0</td>\n",
       "      <td>1.0</td>\n",
       "      <td>1.0</td>\n",
       "    </tr>\n",
       "    <tr>\n",
       "      <th>RequestURL</th>\n",
       "      <td>11055.0</td>\n",
       "      <td>0.186793</td>\n",
       "      <td>0.982444</td>\n",
       "      <td>-1.0</td>\n",
       "      <td>-1.0</td>\n",
       "      <td>1.0</td>\n",
       "      <td>1.0</td>\n",
       "      <td>1.0</td>\n",
       "    </tr>\n",
       "    <tr>\n",
       "      <th>AnchorURL</th>\n",
       "      <td>11055.0</td>\n",
       "      <td>0.076436</td>\n",
       "      <td>0.715084</td>\n",
       "      <td>-1.0</td>\n",
       "      <td>0.0</td>\n",
       "      <td>0.0</td>\n",
       "      <td>1.0</td>\n",
       "      <td>1.0</td>\n",
       "    </tr>\n",
       "    <tr>\n",
       "      <th>InfoEmail</th>\n",
       "      <td>11055.0</td>\n",
       "      <td>0.635821</td>\n",
       "      <td>0.771872</td>\n",
       "      <td>-1.0</td>\n",
       "      <td>1.0</td>\n",
       "      <td>1.0</td>\n",
       "      <td>1.0</td>\n",
       "      <td>1.0</td>\n",
       "    </tr>\n",
       "    <tr>\n",
       "      <th>AbnormalURL</th>\n",
       "      <td>11055.0</td>\n",
       "      <td>0.705473</td>\n",
       "      <td>0.708769</td>\n",
       "      <td>-1.0</td>\n",
       "      <td>1.0</td>\n",
       "      <td>1.0</td>\n",
       "      <td>1.0</td>\n",
       "      <td>1.0</td>\n",
       "    </tr>\n",
       "    <tr>\n",
       "      <th>WebsiteForwarding</th>\n",
       "      <td>11055.0</td>\n",
       "      <td>0.115694</td>\n",
       "      <td>0.319872</td>\n",
       "      <td>0.0</td>\n",
       "      <td>0.0</td>\n",
       "      <td>0.0</td>\n",
       "      <td>0.0</td>\n",
       "      <td>1.0</td>\n",
       "    </tr>\n",
       "    <tr>\n",
       "      <th>DisableRightClick</th>\n",
       "      <td>11055.0</td>\n",
       "      <td>0.913885</td>\n",
       "      <td>0.405991</td>\n",
       "      <td>-1.0</td>\n",
       "      <td>1.0</td>\n",
       "      <td>1.0</td>\n",
       "      <td>1.0</td>\n",
       "      <td>1.0</td>\n",
       "    </tr>\n",
       "    <tr>\n",
       "      <th>UsingPopupWindow</th>\n",
       "      <td>11055.0</td>\n",
       "      <td>0.613388</td>\n",
       "      <td>0.789818</td>\n",
       "      <td>-1.0</td>\n",
       "      <td>1.0</td>\n",
       "      <td>1.0</td>\n",
       "      <td>1.0</td>\n",
       "      <td>1.0</td>\n",
       "    </tr>\n",
       "    <tr>\n",
       "      <th>IframeRedirection</th>\n",
       "      <td>11055.0</td>\n",
       "      <td>0.816915</td>\n",
       "      <td>0.576784</td>\n",
       "      <td>-1.0</td>\n",
       "      <td>1.0</td>\n",
       "      <td>1.0</td>\n",
       "      <td>1.0</td>\n",
       "      <td>1.0</td>\n",
       "    </tr>\n",
       "    <tr>\n",
       "      <th>AgeofDomain</th>\n",
       "      <td>11055.0</td>\n",
       "      <td>0.061239</td>\n",
       "      <td>0.998168</td>\n",
       "      <td>-1.0</td>\n",
       "      <td>-1.0</td>\n",
       "      <td>1.0</td>\n",
       "      <td>1.0</td>\n",
       "      <td>1.0</td>\n",
       "    </tr>\n",
       "    <tr>\n",
       "      <th>DNSRecording</th>\n",
       "      <td>11055.0</td>\n",
       "      <td>0.377114</td>\n",
       "      <td>0.926209</td>\n",
       "      <td>-1.0</td>\n",
       "      <td>-1.0</td>\n",
       "      <td>1.0</td>\n",
       "      <td>1.0</td>\n",
       "      <td>1.0</td>\n",
       "    </tr>\n",
       "    <tr>\n",
       "      <th>WebsiteTraffic</th>\n",
       "      <td>11055.0</td>\n",
       "      <td>0.287381</td>\n",
       "      <td>0.827647</td>\n",
       "      <td>-1.0</td>\n",
       "      <td>0.0</td>\n",
       "      <td>1.0</td>\n",
       "      <td>1.0</td>\n",
       "      <td>1.0</td>\n",
       "    </tr>\n",
       "    <tr>\n",
       "      <th>PageRank</th>\n",
       "      <td>11055.0</td>\n",
       "      <td>-0.483673</td>\n",
       "      <td>0.875289</td>\n",
       "      <td>-1.0</td>\n",
       "      <td>-1.0</td>\n",
       "      <td>-1.0</td>\n",
       "      <td>1.0</td>\n",
       "      <td>1.0</td>\n",
       "    </tr>\n",
       "    <tr>\n",
       "      <th>GoogleIndex</th>\n",
       "      <td>11055.0</td>\n",
       "      <td>0.721574</td>\n",
       "      <td>0.692369</td>\n",
       "      <td>-1.0</td>\n",
       "      <td>1.0</td>\n",
       "      <td>1.0</td>\n",
       "      <td>1.0</td>\n",
       "      <td>1.0</td>\n",
       "    </tr>\n",
       "    <tr>\n",
       "      <th>LinksPointingToPage</th>\n",
       "      <td>11055.0</td>\n",
       "      <td>0.344007</td>\n",
       "      <td>0.569944</td>\n",
       "      <td>-1.0</td>\n",
       "      <td>0.0</td>\n",
       "      <td>0.0</td>\n",
       "      <td>1.0</td>\n",
       "      <td>1.0</td>\n",
       "    </tr>\n",
       "    <tr>\n",
       "      <th>class</th>\n",
       "      <td>11055.0</td>\n",
       "      <td>0.113885</td>\n",
       "      <td>0.993539</td>\n",
       "      <td>-1.0</td>\n",
       "      <td>-1.0</td>\n",
       "      <td>1.0</td>\n",
       "      <td>1.0</td>\n",
       "      <td>1.0</td>\n",
       "    </tr>\n",
       "  </tbody>\n",
       "</table>\n",
       "</div>"
      ],
      "text/plain": [
       "                       count         mean          std  min     25%     50%  \\\n",
       "Index                11055.0  5528.000000  3191.447947  1.0  2764.5  5528.0   \n",
       "UsingIP              11055.0     0.313976     0.949474 -1.0    -1.0     1.0   \n",
       "LongURL              11055.0    -0.633198     0.766095 -1.0    -1.0    -1.0   \n",
       "ShortURL             11055.0     0.738761     0.673998 -1.0     1.0     1.0   \n",
       "Symbol@              11055.0     0.700588     0.713598 -1.0     1.0     1.0   \n",
       "Redirecting//        11055.0     0.741655     0.670811 -1.0     1.0     1.0   \n",
       "PrefixSuffix-        11055.0    -0.734962     0.678139 -1.0    -1.0    -1.0   \n",
       "SubDomains           11055.0     0.064043     0.817456 -1.0    -1.0     0.0   \n",
       "HTTPS                11055.0     0.251108     0.911843 -1.0    -1.0     1.0   \n",
       "HTTPSDomainURL       11055.0     0.675079     0.737779 -1.0     1.0     1.0   \n",
       "RequestURL           11055.0     0.186793     0.982444 -1.0    -1.0     1.0   \n",
       "AnchorURL            11055.0     0.076436     0.715084 -1.0     0.0     0.0   \n",
       "InfoEmail            11055.0     0.635821     0.771872 -1.0     1.0     1.0   \n",
       "AbnormalURL          11055.0     0.705473     0.708769 -1.0     1.0     1.0   \n",
       "WebsiteForwarding    11055.0     0.115694     0.319872  0.0     0.0     0.0   \n",
       "DisableRightClick    11055.0     0.913885     0.405991 -1.0     1.0     1.0   \n",
       "UsingPopupWindow     11055.0     0.613388     0.789818 -1.0     1.0     1.0   \n",
       "IframeRedirection    11055.0     0.816915     0.576784 -1.0     1.0     1.0   \n",
       "AgeofDomain          11055.0     0.061239     0.998168 -1.0    -1.0     1.0   \n",
       "DNSRecording         11055.0     0.377114     0.926209 -1.0    -1.0     1.0   \n",
       "WebsiteTraffic       11055.0     0.287381     0.827647 -1.0     0.0     1.0   \n",
       "PageRank             11055.0    -0.483673     0.875289 -1.0    -1.0    -1.0   \n",
       "GoogleIndex          11055.0     0.721574     0.692369 -1.0     1.0     1.0   \n",
       "LinksPointingToPage  11055.0     0.344007     0.569944 -1.0     0.0     0.0   \n",
       "class                11055.0     0.113885     0.993539 -1.0    -1.0     1.0   \n",
       "\n",
       "                        75%      max  \n",
       "Index                8291.5  11055.0  \n",
       "UsingIP                 1.0      1.0  \n",
       "LongURL                -1.0      1.0  \n",
       "ShortURL                1.0      1.0  \n",
       "Symbol@                 1.0      1.0  \n",
       "Redirecting//           1.0      1.0  \n",
       "PrefixSuffix-          -1.0      1.0  \n",
       "SubDomains              1.0      1.0  \n",
       "HTTPS                   1.0      1.0  \n",
       "HTTPSDomainURL          1.0      1.0  \n",
       "RequestURL              1.0      1.0  \n",
       "AnchorURL               1.0      1.0  \n",
       "InfoEmail               1.0      1.0  \n",
       "AbnormalURL             1.0      1.0  \n",
       "WebsiteForwarding       0.0      1.0  \n",
       "DisableRightClick       1.0      1.0  \n",
       "UsingPopupWindow        1.0      1.0  \n",
       "IframeRedirection       1.0      1.0  \n",
       "AgeofDomain             1.0      1.0  \n",
       "DNSRecording            1.0      1.0  \n",
       "WebsiteTraffic          1.0      1.0  \n",
       "PageRank                1.0      1.0  \n",
       "GoogleIndex             1.0      1.0  \n",
       "LinksPointingToPage     1.0      1.0  \n",
       "class                   1.0      1.0  "
      ]
     },
     "execution_count": 7,
     "metadata": {},
     "output_type": "execute_result"
    }
   ],
   "source": [
    "#description of dataset\n",
    "\n",
    "data.describe().T"
   ]
  },
  {
   "cell_type": "markdown",
   "id": "d1cda572",
   "metadata": {},
   "source": [
    "## 3. Visualizing the data:\n",
    "Few plots and graphs are displayed to find how the data is distributed and the how features are related to each other."
   ]
  },
  {
   "cell_type": "code",
   "execution_count": 8,
   "id": "30a43979",
   "metadata": {},
   "outputs": [
    {
     "data": {
      "image/png": "[encoded data removed]",
      "text/plain": [
       "<Figure size 500x700 with 1 Axes>"
      ]
     },
     "metadata": {},
     "output_type": "display_data"
    }
   ],
   "source": [
    "# Phishing Count in Count Plots\n",
    "plt.figure(figsize = (5, 7))        \n",
    "bar = sns.countplot(x=df1[\"class\"], \n",
    "              data=df1, \n",
    "              palette=\"Reds\")\n",
    "for p in bar.patches:\n",
    "    bar.annotate(format(p.get_height(), ','), \n",
    "                   (p.get_x() + p.get_width() / 2., p.get_height()), \n",
    "                   ha = 'center', va = 'center', \n",
    "                   xytext = (0, 9), \n",
    "                   textcoords = 'offset points')\n",
    "plt.title('Frequency of Legitimate and Phishing URLs', fontsize = 16, pad = 12)\n",
    "plt.xlabel('Phishing (-1), Legitimate (1)', fontsize = 14)\n",
    "plt.ylabel(\"Frequency\",fontsize = 14)\n",
    "plt.show();"
   ]
  },
  {
   "cell_type": "code",
   "execution_count": 9,
   "id": "1999dba3",
   "metadata": {},
   "outputs": [
    {
     "data": {
      "image/png": "[encoded data removed]",
      "text/plain": [
       "<Figure size 640x480 with 1 Axes>"
      ]
     },
     "metadata": {},
     "output_type": "display_data"
    }
   ],
   "source": [
    "# Phishing Count in pie chart\n",
    "\n",
    "df1['class'].value_counts().plot(kind='pie',autopct='%1.2f%%')\n",
    "plt.title(\"Phishing Count\")\n",
    "plt.show()"
   ]
  },
  {
   "cell_type": "markdown",
   "id": "3eee8c08",
   "metadata": {},
   "source": [
    "## 4. Splitting the Data:\n",
    "The data is split into train & test sets, 80-20 split."
   ]
  },
  {
   "cell_type": "code",
   "execution_count": 10,
   "id": "f3d90a24",
   "metadata": {},
   "outputs": [],
   "source": [
    "# # Splitting the dataset into dependant and independant feature\n",
    "\n",
    "X = data[['UsingIP', 'LongURL', 'ShortURL',\n",
    "       'Symbol@', 'Redirecting//', 'PrefixSuffix-', 'SubDomains', 'HTTPS',\n",
    "       'HTTPSDomainURL', 'RequestURL', 'AnchorURL', 'InfoEmail', 'AbnormalURL',\n",
    "       'WebsiteForwarding', 'DisableRightClick', 'UsingPopupWindow',\n",
    "       'IframeRedirection', 'AgeofDomain', 'DNSRecording', 'WebsiteTraffic',\n",
    "       'PageRank', 'GoogleIndex', 'LinksPointingToPage']]\n",
    "y = data[\"class\"]"
   ]
  },
  {
   "cell_type": "code",
   "execution_count": 11,
   "id": "9de941d7",
   "metadata": {},
   "outputs": [],
   "source": [
    "# Splitting the dataset into train and test sets: 80-20 split\n",
    "\n",
    "from sklearn.model_selection import train_test_split\n",
    "\n",
    "X_train, X_test, y_train, y_test = train_test_split(X, y, test_size = 0.2, random_state = 42)\n",
    "#X_train.shape, y_train.shape, X_test.shape, y_test.shape"
   ]
  },
  {
   "cell_type": "markdown",
   "id": "1f1ae9dc",
   "metadata": {},
   "source": [
    "## 5. Model Building & Training:\n",
    "\n",
    "1. Logistic Regression\n",
    "2. k-Nearest Neighbors \n",
    "3. Support Vector Clasifier\n",
    "4. Naive Bayes\n",
    "5. Decision Tree\n",
    "6. Random Forest\n",
    "7. Gradient Boosting\n",
    "8. Xgboost\n",
    "9. Multilayer Perceptrons\n",
    "\n",
    "              \n",
    "The metrics considered to evaluate the model performance are Accuracy & F1 score."
   ]
  },
  {
   "cell_type": "code",
   "execution_count": 12,
   "id": "55ac1416",
   "metadata": {},
   "outputs": [],
   "source": [
    "# Creating holders to store the model performance results\n",
    "ML_Model = []\n",
    "accuracy = []\n",
    "f1_score = []\n",
    "recall = []\n",
    "precision = []\n",
    "\n",
    "#function to call for storing the results\n",
    "def storeResults(model, a,b,c,d):\n",
    "  ML_Model.append(model)\n",
    "  accuracy.append(round(a, 3))\n",
    "  f1_score.append(round(b, 3))\n",
    "  recall.append(round(c, 3))\n",
    "  precision.append(round(d, 3))"
   ]
  },
  {
   "cell_type": "markdown",
   "id": "a8724a53",
   "metadata": {},
   "source": [
    "## 1. Logistic Regression"
   ]
  },
  {
   "cell_type": "code",
   "execution_count": 13,
   "id": "1aa0632f",
   "metadata": {},
   "outputs": [
    {
     "data": {
      "text/plain": [
       "LogisticRegression()"
      ]
     },
     "execution_count": 13,
     "metadata": {},
     "output_type": "execute_result"
    }
   ],
   "source": [
    "# Linear regression model \n",
    "from sklearn.linear_model import LogisticRegression\n",
    "#from sklearn.pipeline import Pipeline\n",
    "\n",
    "# instantiate the model\n",
    "log = LogisticRegression()\n",
    "\n",
    "# fit the model \n",
    "log.fit(X_train,y_train)"
   ]
  },
  {
   "cell_type": "code",
   "execution_count": 14,
   "id": "66af98cc",
   "metadata": {},
   "outputs": [],
   "source": [
    "#predicting the target value from the model for the samples\n",
    "\n",
    "y_train_log = log.predict(X_train)\n",
    "y_test_log = log.predict(X_test)"
   ]
  },
  {
   "cell_type": "code",
   "execution_count": 15,
   "id": "bd4f1e81",
   "metadata": {},
   "outputs": [
    {
     "name": "stdout",
     "output_type": "stream",
     "text": [
      "Logistic Regression : Accuracy on training Data: 0.919\n",
      "Logistic Regression : Accuracy on test Data: 0.924\n",
      "\n",
      "Logistic Regression : f1_score on training Data: 0.928\n",
      "Logistic Regression : f1_score on test Data: 0.933\n",
      "\n",
      "Logistic Regression : Recall on training Data: 0.939\n",
      "Logistic Regression : Recall on test Data: 0.945\n",
      "\n",
      "Logistic Regression : precision on training Data: 0.917\n",
      "Logistic Regression : precision on test Data: 0.920\n"
     ]
    }
   ],
   "source": [
    "#computing the accuracy, f1_score, Recall, precision of the model performance\n",
    "\n",
    "acc_train_log = metrics.accuracy_score(y_train,y_train_log)\n",
    "acc_test_log = metrics.accuracy_score(y_test,y_test_log)\n",
    "print(\"Logistic Regression : Accuracy on training Data: {:.3f}\".format(acc_train_log))\n",
    "print(\"Logistic Regression : Accuracy on test Data: {:.3f}\".format(acc_test_log))\n",
    "print()\n",
    "\n",
    "f1_score_train_log = metrics.f1_score(y_train,y_train_log)\n",
    "f1_score_test_log = metrics.f1_score(y_test,y_test_log)\n",
    "print(\"Logistic Regression : f1_score on training Data: {:.3f}\".format(f1_score_train_log))\n",
    "print(\"Logistic Regression : f1_score on test Data: {:.3f}\".format(f1_score_test_log))\n",
    "print()\n",
    "\n",
    "recall_score_train_log = metrics.recall_score(y_train,y_train_log)\n",
    "recall_score_test_log = metrics.recall_score(y_test,y_test_log)\n",
    "print(\"Logistic Regression : Recall on training Data: {:.3f}\".format(recall_score_train_log))\n",
    "print(\"Logistic Regression : Recall on test Data: {:.3f}\".format(recall_score_test_log))\n",
    "print()\n",
    "\n",
    "precision_score_train_log = metrics.precision_score(y_train,y_train_log)\n",
    "precision_score_test_log = metrics.precision_score(y_test,y_test_log)\n",
    "print(\"Logistic Regression : precision on training Data: {:.3f}\".format(precision_score_train_log))\n",
    "print(\"Logistic Regression : precision on test Data: {:.3f}\".format(precision_score_test_log))"
   ]
  },
  {
   "cell_type": "code",
   "execution_count": 16,
   "id": "314ae927",
   "metadata": {},
   "outputs": [
    {
     "name": "stdout",
     "output_type": "stream",
     "text": [
      "              precision    recall  f1-score   support\n",
      "\n",
      "          -1       0.93      0.90      0.91       983\n",
      "           1       0.92      0.95      0.93      1228\n",
      "\n",
      "    accuracy                           0.92      2211\n",
      "   macro avg       0.92      0.92      0.92      2211\n",
      "weighted avg       0.92      0.92      0.92      2211\n",
      "\n"
     ]
    }
   ],
   "source": [
    "#computing the classification report of the model\n",
    "\n",
    "print(metrics.classification_report(y_test, y_test_log))"
   ]
  },
  {
   "cell_type": "code",
   "execution_count": 17,
   "id": "e557df04",
   "metadata": {},
   "outputs": [],
   "source": [
    "#storing the results. The below mentioned order of parameter passing is important.\n",
    "\n",
    "storeResults('Logistic Regression',acc_test_log,f1_score_test_log,\n",
    "             recall_score_train_log,precision_score_train_log)"
   ]
  },
  {
   "cell_type": "markdown",
   "id": "94a3a5bf",
   "metadata": {},
   "source": [
    "## 2. K-Nearest Neighbors : Classifier"
   ]
  },
  {
   "cell_type": "code",
   "execution_count": 18,
   "id": "fcdb78be",
   "metadata": {},
   "outputs": [
    {
     "data": {
      "text/plain": [
       "KNeighborsClassifier(n_neighbors=1)"
      ]
     },
     "execution_count": 18,
     "metadata": {},
     "output_type": "execute_result"
    }
   ],
   "source": [
    "# K-Nearest Neighbors Classifier model\n",
    "from sklearn.neighbors import KNeighborsClassifier\n",
    "\n",
    "# instantiate the model\n",
    "knn = KNeighborsClassifier(n_neighbors=1)\n",
    "\n",
    "# fit the model \n",
    "knn.fit(X_train,y_train)"
   ]
  },
  {
   "cell_type": "code",
   "execution_count": 19,
   "id": "269c61e7",
   "metadata": {},
   "outputs": [],
   "source": [
    "#predicting the target value from the model for the samples\n",
    "y_train_knn = knn.predict(X_train)\n",
    "y_test_knn = knn.predict(X_test)"
   ]
  },
  {
   "cell_type": "code",
   "execution_count": 20,
   "id": "77d9c3bf",
   "metadata": {},
   "outputs": [
    {
     "name": "stdout",
     "output_type": "stream",
     "text": [
      "K-Nearest Neighbors : Accuracy on training Data: 0.970\n",
      "K-Nearest Neighbors : Accuracy on test Data: 0.941\n",
      "\n",
      "K-Nearest Neighbors : f1_score on training Data: 0.973\n",
      "K-Nearest Neighbors : f1_score on test Data: 0.947\n",
      "\n",
      "K-Nearest Neighborsn : Recall on training Data: 0.973\n",
      "Logistic Regression : Recall on test Data: 0.955\n",
      "\n",
      "K-Nearest Neighbors : precision on training Data: 0.973\n",
      "K-Nearest Neighbors : precision on test Data: 0.940\n"
     ]
    }
   ],
   "source": [
    "#computing the accuracy,f1_score,Recall,precision of the model performance\n",
    "\n",
    "acc_train_knn = metrics.accuracy_score(y_train,y_train_knn)\n",
    "acc_test_knn = metrics.accuracy_score(y_test,y_test_knn)\n",
    "print(\"K-Nearest Neighbors : Accuracy on training Data: {:.3f}\".format(acc_train_knn))\n",
    "print(\"K-Nearest Neighbors : Accuracy on test Data: {:.3f}\".format(acc_test_knn))\n",
    "print()\n",
    "\n",
    "f1_score_train_knn = metrics.f1_score(y_train,y_train_knn)\n",
    "f1_score_test_knn = metrics.f1_score(y_test,y_test_knn)\n",
    "print(\"K-Nearest Neighbors : f1_score on training Data: {:.3f}\".format(f1_score_train_knn))\n",
    "print(\"K-Nearest Neighbors : f1_score on test Data: {:.3f}\".format(f1_score_test_knn))\n",
    "print()\n",
    "\n",
    "recall_score_train_knn = metrics.recall_score(y_train,y_train_knn)\n",
    "recall_score_test_knn = metrics.recall_score(y_test,y_test_knn)\n",
    "print(\"K-Nearest Neighborsn : Recall on training Data: {:.3f}\".format(recall_score_train_knn))\n",
    "print(\"Logistic Regression : Recall on test Data: {:.3f}\".format(recall_score_test_knn))\n",
    "print()\n",
    "\n",
    "precision_score_train_knn = metrics.precision_score(y_train,y_train_knn)\n",
    "precision_score_test_knn = metrics.precision_score(y_test,y_test_knn)\n",
    "print(\"K-Nearest Neighbors : precision on training Data: {:.3f}\".format(precision_score_train_knn))\n",
    "print(\"K-Nearest Neighbors : precision on test Data: {:.3f}\".format(precision_score_test_knn))"
   ]
  },
  {
   "cell_type": "code",
   "execution_count": 21,
   "id": "f6a6658f",
   "metadata": {},
   "outputs": [
    {
     "name": "stdout",
     "output_type": "stream",
     "text": [
      "              precision    recall  f1-score   support\n",
      "\n",
      "          -1       0.94      0.92      0.93       983\n",
      "           1       0.94      0.96      0.95      1228\n",
      "\n",
      "    accuracy                           0.94      2211\n",
      "   macro avg       0.94      0.94      0.94      2211\n",
      "weighted avg       0.94      0.94      0.94      2211\n",
      "\n"
     ]
    }
   ],
   "source": [
    "#computing the classification report of the model\n",
    "\n",
    "print(metrics.classification_report(y_test, y_test_knn))"
   ]
  },
  {
   "cell_type": "code",
   "execution_count": 22,
   "id": "19e5bf0c",
   "metadata": {},
   "outputs": [],
   "source": [
    "#storing the results. The below mentioned order of parameter passing is important.\n",
    "\n",
    "storeResults('K-Nearest Neighbors',acc_test_knn,f1_score_test_knn,\n",
    "             recall_score_train_knn,precision_score_train_knn)"
   ]
  },
  {
   "cell_type": "markdown",
   "id": "b8bc8b53",
   "metadata": {},
   "source": [
    "## 3. Support Vector Machine : Classifier"
   ]
  },
  {
   "cell_type": "code",
   "execution_count": 23,
   "id": "be3cb194",
   "metadata": {},
   "outputs": [
    {
     "data": {
      "text/plain": [
       "GridSearchCV(estimator=SVC(),\n",
       "             param_grid={'gamma': [0.1], 'kernel': ['rbf', 'linear']})"
      ]
     },
     "execution_count": 23,
     "metadata": {},
     "output_type": "execute_result"
    }
   ],
   "source": [
    "# Support Vector Classifier model \n",
    "from sklearn.svm import SVC\n",
    "from sklearn.model_selection import GridSearchCV\n",
    "\n",
    "# defining parameter range\n",
    "param_grid = {'gamma': [0.1],'kernel': ['rbf','linear']}\n",
    "\n",
    "svc = GridSearchCV(SVC(), param_grid)\n",
    "\n",
    "# fitting the model for grid search\n",
    "svc.fit(X_train, y_train)\n"
   ]
  },
  {
   "cell_type": "code",
   "execution_count": 24,
   "id": "2b25eef4",
   "metadata": {},
   "outputs": [],
   "source": [
    "#predicting the target value from the model for the samples\n",
    "y_train_svc = svc.predict(X_train)\n",
    "y_test_svc = svc.predict(X_test)"
   ]
  },
  {
   "cell_type": "code",
   "execution_count": 25,
   "id": "079d4b39",
   "metadata": {},
   "outputs": [
    {
     "name": "stdout",
     "output_type": "stream",
     "text": [
      "Support Vector Machine : Accuracy on training Data: 0.956\n",
      "Support Vector Machine : Accuracy on test Data: 0.947\n",
      "\n",
      "Support Vector Machine : f1_score on training Data: 0.961\n",
      "Support Vector Machine : f1_score on test Data: 0.953\n",
      "\n",
      "Support Vector Machine : Recall on training Data: 0.972\n",
      "Support Vector Machine : Recall on test Data: 0.966\n",
      "\n",
      "Support Vector Machine : precision on training Data: 0.951\n",
      "Support Vector Machine : precision on test Data: 0.941\n"
     ]
    }
   ],
   "source": [
    "#computing the accuracy, f1_score, Recall, precision of the model performance\n",
    "\n",
    "acc_train_svc = metrics.accuracy_score(y_train,y_train_svc)\n",
    "acc_test_svc = metrics.accuracy_score(y_test,y_test_svc)\n",
    "print(\"Support Vector Machine : Accuracy on training Data: {:.3f}\".format(acc_train_svc))\n",
    "print(\"Support Vector Machine : Accuracy on test Data: {:.3f}\".format(acc_test_svc))\n",
    "print()\n",
    "\n",
    "f1_score_train_svc = metrics.f1_score(y_train,y_train_svc)\n",
    "f1_score_test_svc = metrics.f1_score(y_test,y_test_svc)\n",
    "print(\"Support Vector Machine : f1_score on training Data: {:.3f}\".format(f1_score_train_svc))\n",
    "print(\"Support Vector Machine : f1_score on test Data: {:.3f}\".format(f1_score_test_svc))\n",
    "print()\n",
    "\n",
    "recall_score_train_svc = metrics.recall_score(y_train,y_train_svc)\n",
    "recall_score_test_svc = metrics.recall_score(y_test,y_test_svc)\n",
    "print(\"Support Vector Machine : Recall on training Data: {:.3f}\".format(recall_score_train_svc))\n",
    "print(\"Support Vector Machine : Recall on test Data: {:.3f}\".format(recall_score_test_svc))\n",
    "print()\n",
    "\n",
    "precision_score_train_svc = metrics.precision_score(y_train,y_train_svc)\n",
    "precision_score_test_svc = metrics.precision_score(y_test,y_test_svc)\n",
    "print(\"Support Vector Machine : precision on training Data: {:.3f}\".format(precision_score_train_svc))\n",
    "print(\"Support Vector Machine : precision on test Data: {:.3f}\".format(precision_score_test_svc))"
   ]
  },
  {
   "cell_type": "code",
   "execution_count": 26,
   "id": "b80c577b",
   "metadata": {},
   "outputs": [
    {
     "name": "stdout",
     "output_type": "stream",
     "text": [
      "              precision    recall  f1-score   support\n",
      "\n",
      "          -1       0.96      0.92      0.94       983\n",
      "           1       0.94      0.97      0.95      1228\n",
      "\n",
      "    accuracy                           0.95      2211\n",
      "   macro avg       0.95      0.94      0.95      2211\n",
      "weighted avg       0.95      0.95      0.95      2211\n",
      "\n"
     ]
    }
   ],
   "source": [
    "#computing the classification report of the model\n",
    "\n",
    "print(metrics.classification_report(y_test, y_test_svc))"
   ]
  },
  {
   "cell_type": "code",
   "execution_count": 27,
   "id": "b82e2f70",
   "metadata": {},
   "outputs": [],
   "source": [
    "#storing the results. The below mentioned order of parameter passing is important.\n",
    "\n",
    "storeResults('Support Vector Machine',acc_test_svc,f1_score_test_svc,\n",
    "             recall_score_train_svc,precision_score_train_svc)"
   ]
  },
  {
   "cell_type": "markdown",
   "id": "8ba22f40",
   "metadata": {},
   "source": [
    "## 4. Naive Bayes : Classifier"
   ]
  },
  {
   "cell_type": "code",
   "execution_count": 28,
   "id": "69469f59",
   "metadata": {},
   "outputs": [
    {
     "data": {
      "text/plain": [
       "GaussianNB()"
      ]
     },
     "execution_count": 28,
     "metadata": {},
     "output_type": "execute_result"
    }
   ],
   "source": [
    "# Naive Bayes Classifier Model\n",
    "from sklearn.naive_bayes import GaussianNB\n",
    "from sklearn.pipeline import Pipeline\n",
    "\n",
    "# instantiate the model\n",
    "nb=  GaussianNB()\n",
    "\n",
    "# fit the model \n",
    "nb.fit(X_train,y_train)"
   ]
  },
  {
   "cell_type": "code",
   "execution_count": 29,
   "id": "d5af1028",
   "metadata": {},
   "outputs": [],
   "source": [
    "#predicting the target value from the model for the samples\n",
    "y_train_nb = nb.predict(X_train)\n",
    "y_test_nb = nb.predict(X_test)"
   ]
  },
  {
   "cell_type": "code",
   "execution_count": 30,
   "id": "63968c7a",
   "metadata": {},
   "outputs": [
    {
     "name": "stdout",
     "output_type": "stream",
     "text": [
      "Naive Bayes Classifier : Accuracy on training Data: 0.580\n",
      "Naive Bayes Classifier : Accuracy on test Data: 0.581\n",
      "\n",
      "Naive Bayes Classifier : f1_score on training Data: 0.395\n",
      "Naive Bayes Classifier : f1_score on test Data: 0.395\n",
      "\n",
      "Naive Bayes Classifier : Recall on training Data: 0.246\n",
      "Naive Bayes Classifier : Recall on test Data: 0.246\n",
      "\n",
      "Naive Bayes Classifier : precision on training Data: 1.000\n",
      "Naive Bayes Classifier : precision on test Data: 1.000\n"
     ]
    }
   ],
   "source": [
    "#computing the accuracy, f1_score, Recall, precision of the model performance\n",
    "\n",
    "acc_train_nb = metrics.accuracy_score(y_train,y_train_nb)\n",
    "acc_test_nb = metrics.accuracy_score(y_test,y_test_nb)\n",
    "print(\"Naive Bayes Classifier : Accuracy on training Data: {:.3f}\".format(acc_train_nb))\n",
    "print(\"Naive Bayes Classifier : Accuracy on test Data: {:.3f}\".format(acc_test_nb))\n",
    "print()\n",
    "\n",
    "f1_score_train_nb = metrics.f1_score(y_train,y_train_nb)\n",
    "f1_score_test_nb = metrics.f1_score(y_test,y_test_nb)\n",
    "print(\"Naive Bayes Classifier : f1_score on training Data: {:.3f}\".format(f1_score_train_nb))\n",
    "print(\"Naive Bayes Classifier : f1_score on test Data: {:.3f}\".format(f1_score_test_nb))\n",
    "print()\n",
    "\n",
    "recall_score_train_nb = metrics.recall_score(y_train,y_train_nb)\n",
    "recall_score_test_nb = metrics.recall_score(y_test,y_test_nb)\n",
    "print(\"Naive Bayes Classifier : Recall on training Data: {:.3f}\".format(recall_score_train_nb))\n",
    "print(\"Naive Bayes Classifier : Recall on test Data: {:.3f}\".format(recall_score_test_nb))\n",
    "print()\n",
    "\n",
    "precision_score_train_nb = metrics.precision_score(y_train,y_train_nb)\n",
    "precision_score_test_nb = metrics.precision_score(y_test,y_test_nb)\n",
    "print(\"Naive Bayes Classifier : precision on training Data: {:.3f}\".format(precision_score_train_nb))\n",
    "print(\"Naive Bayes Classifier : precision on test Data: {:.3f}\".format(precision_score_test_nb))"
   ]
  },
  {
   "cell_type": "code",
   "execution_count": 31,
   "id": "cb7d8f0b",
   "metadata": {},
   "outputs": [
    {
     "name": "stdout",
     "output_type": "stream",
     "text": [
      "              precision    recall  f1-score   support\n",
      "\n",
      "          -1       0.51      1.00      0.68       983\n",
      "           1       1.00      0.25      0.39      1228\n",
      "\n",
      "    accuracy                           0.58      2211\n",
      "   macro avg       0.76      0.62      0.54      2211\n",
      "weighted avg       0.78      0.58      0.52      2211\n",
      "\n"
     ]
    }
   ],
   "source": [
    "#computing the classification report of the model\n",
    "\n",
    "print(metrics.classification_report(y_test, y_test_nb))"
   ]
  },
  {
   "cell_type": "code",
   "execution_count": 32,
   "id": "51080f01",
   "metadata": {},
   "outputs": [],
   "source": [
    "#storing the results. The below mentioned order of parameter passing is important.\n",
    "\n",
    "storeResults('Naive Bayes Classifier',acc_test_nb,f1_score_test_nb,\n",
    "             recall_score_train_nb,precision_score_train_nb)"
   ]
  },
  {
   "cell_type": "markdown",
   "id": "bffea1bb",
   "metadata": {},
   "source": [
    "## 5. Decision Trees : Classifier"
   ]
  },
  {
   "cell_type": "code",
   "execution_count": 33,
   "id": "31379c27",
   "metadata": {},
   "outputs": [
    {
     "data": {
      "text/plain": [
       "DecisionTreeClassifier(max_depth=30)"
      ]
     },
     "execution_count": 33,
     "metadata": {},
     "output_type": "execute_result"
    }
   ],
   "source": [
    "# Decision Tree Classifier model \n",
    "from sklearn.tree import DecisionTreeClassifier\n",
    "\n",
    "# instantiate the model \n",
    "tree = DecisionTreeClassifier(max_depth=30)\n",
    "\n",
    "# fit the model \n",
    "tree.fit(X_train, y_train)"
   ]
  },
  {
   "cell_type": "code",
   "execution_count": 34,
   "id": "6c19c3ec",
   "metadata": {},
   "outputs": [],
   "source": [
    "#predicting the target value from the model for the samples\n",
    "\n",
    "y_train_tree = tree.predict(X_train)\n",
    "y_test_tree = tree.predict(X_test)"
   ]
  },
  {
   "cell_type": "code",
   "execution_count": 35,
   "id": "b577d598",
   "metadata": {},
   "outputs": [
    {
     "name": "stdout",
     "output_type": "stream",
     "text": [
      "Decision Tree : Accuracy on training Data: 0.979\n",
      "Decision Tree : Accuracy on test Data: 0.957\n",
      "\n",
      "Decision Tree : f1_score on training Data: 0.981\n",
      "Decision Tree : f1_score on test Data: 0.961\n",
      "\n",
      "Decision Tree : Recall on training Data: 0.983\n",
      "Decision Tree : Recall on test Data: 0.961\n",
      "\n",
      "Decision Tree : precision on training Data: 0.979\n",
      "Decision Tree : precision on test Data: 0.961\n"
     ]
    }
   ],
   "source": [
    "#computing the accuracy, f1_score, Recall, precision of the model performance\n",
    "\n",
    "acc_train_tree = metrics.accuracy_score(y_train,y_train_tree)\n",
    "acc_test_tree = metrics.accuracy_score(y_test,y_test_tree)\n",
    "print(\"Decision Tree : Accuracy on training Data: {:.3f}\".format(acc_train_tree))\n",
    "print(\"Decision Tree : Accuracy on test Data: {:.3f}\".format(acc_test_tree))\n",
    "print()\n",
    "\n",
    "f1_score_train_tree = metrics.f1_score(y_train,y_train_tree)\n",
    "f1_score_test_tree = metrics.f1_score(y_test,y_test_tree)\n",
    "print(\"Decision Tree : f1_score on training Data: {:.3f}\".format(f1_score_train_tree))\n",
    "print(\"Decision Tree : f1_score on test Data: {:.3f}\".format(f1_score_test_tree))\n",
    "print()\n",
    "\n",
    "recall_score_train_tree = metrics.recall_score(y_train,y_train_tree)\n",
    "recall_score_test_tree = metrics.recall_score(y_test,y_test_tree)\n",
    "print(\"Decision Tree : Recall on training Data: {:.3f}\".format(recall_score_train_tree))\n",
    "print(\"Decision Tree : Recall on test Data: {:.3f}\".format(recall_score_test_tree))\n",
    "print()\n",
    "\n",
    "precision_score_train_tree = metrics.precision_score(y_train,y_train_tree)\n",
    "precision_score_test_tree = metrics.precision_score(y_test,y_test_tree)\n",
    "print(\"Decision Tree : precision on training Data: {:.3f}\".format(precision_score_train_tree))\n",
    "print(\"Decision Tree : precision on test Data: {:.3f}\".format(precision_score_test_tree))"
   ]
  },
  {
   "cell_type": "code",
   "execution_count": 36,
   "id": "87bcb8b6",
   "metadata": {},
   "outputs": [
    {
     "name": "stdout",
     "output_type": "stream",
     "text": [
      "              precision    recall  f1-score   support\n",
      "\n",
      "          -1       0.95      0.95      0.95       983\n",
      "           1       0.96      0.96      0.96      1228\n",
      "\n",
      "    accuracy                           0.96      2211\n",
      "   macro avg       0.96      0.96      0.96      2211\n",
      "weighted avg       0.96      0.96      0.96      2211\n",
      "\n"
     ]
    }
   ],
   "source": [
    "#computing the classification report of the model\n",
    "\n",
    "print(metrics.classification_report(y_test, y_test_tree))"
   ]
  },
  {
   "cell_type": "code",
   "execution_count": 37,
   "id": "b0fdcdd9",
   "metadata": {},
   "outputs": [
    {
     "data": {
      "image/png": "[encoded data removed]",
      "text/plain": [
       "<Figure size 640x480 with 1 Axes>"
      ]
     },
     "metadata": {},
     "output_type": "display_data"
    }
   ],
   "source": [
    "training_accuracy = []\n",
    "test_accuracy = []\n",
    "# try max_depth from 1 to 30\n",
    "depth = range(1,30)\n",
    "for n in depth:\n",
    "    tree_test = DecisionTreeClassifier(max_depth=n)\n",
    "\n",
    "    tree_test.fit(X_train, y_train)\n",
    "    # record training set accuracy\n",
    "    training_accuracy.append(tree_test.score(X_train, y_train))\n",
    "    # record generalization accuracy\n",
    "    test_accuracy.append(tree_test.score(X_test, y_test))\n",
    "    \n",
    "\n",
    "#plotting the training & testing accuracy for max_depth from 1 to 30\n",
    "plt.plot(depth, training_accuracy, label=\"training accuracy\")\n",
    "plt.plot(depth, test_accuracy, label=\"test accuracy\")\n",
    "plt.ylabel(\"Accuracy\")  \n",
    "plt.xlabel(\"max_depth\")\n",
    "plt.legend();"
   ]
  },
  {
   "cell_type": "code",
   "execution_count": 38,
   "id": "0f3b12b8",
   "metadata": {},
   "outputs": [],
   "source": [
    "#storing the results. The below mentioned order of parameter passing is important.\n",
    "\n",
    "storeResults('Decision Tree',acc_test_tree,f1_score_test_tree,\n",
    "             recall_score_train_tree,precision_score_train_tree)"
   ]
  },
  {
   "cell_type": "markdown",
   "id": "02637ba8",
   "metadata": {},
   "source": [
    "## 6. Random Forest : Classifier"
   ]
  },
  {
   "cell_type": "code",
   "execution_count": 39,
   "id": "49272c25",
   "metadata": {},
   "outputs": [
    {
     "data": {
      "text/plain": [
       "RandomForestClassifier(n_estimators=10)"
      ]
     },
     "execution_count": 39,
     "metadata": {},
     "output_type": "execute_result"
    }
   ],
   "source": [
    "# Random Forest Classifier Model\n",
    "from sklearn.ensemble import RandomForestClassifier\n",
    "\n",
    "# instantiate the model\n",
    "forest = RandomForestClassifier(n_estimators=10)\n",
    "\n",
    "# fit the model \n",
    "forest.fit(X_train,y_train)"
   ]
  },
  {
   "cell_type": "code",
   "execution_count": 40,
   "id": "82c1f8b7",
   "metadata": {},
   "outputs": [],
   "source": [
    "#predicting the target value from the model for the samples\n",
    "y_train_forest = forest.predict(X_train)\n",
    "y_test_forest = forest.predict(X_test)"
   ]
  },
  {
   "cell_type": "code",
   "execution_count": 41,
   "id": "a41bd7f0",
   "metadata": {},
   "outputs": [
    {
     "name": "stdout",
     "output_type": "stream",
     "text": [
      "Random Forest : Accuracy on training Data: 0.978\n",
      "Random Forest : Accuracy on test Data: 0.960\n",
      "\n",
      "Random Forest : f1_score on training Data: 0.981\n",
      "Random Forest : f1_score on test Data: 0.964\n",
      "\n",
      "Random Forest : Recall on training Data: 0.986\n",
      "Random Forest : Recall on test Data: 0.968\n",
      "\n",
      "Random Forest : precision on training Data: 0.975\n",
      "Random Forest : precision on test Data: 0.961\n"
     ]
    }
   ],
   "source": [
    "#computing the accuracy, f1_score, Recall, precision of the model performance\n",
    "\n",
    "acc_train_forest = metrics.accuracy_score(y_train,y_train_forest)\n",
    "acc_test_forest = metrics.accuracy_score(y_test,y_test_forest)\n",
    "print(\"Random Forest : Accuracy on training Data: {:.3f}\".format(acc_train_forest))\n",
    "print(\"Random Forest : Accuracy on test Data: {:.3f}\".format(acc_test_forest))\n",
    "print()\n",
    "\n",
    "f1_score_train_forest = metrics.f1_score(y_train,y_train_forest)\n",
    "f1_score_test_forest = metrics.f1_score(y_test,y_test_forest)\n",
    "print(\"Random Forest : f1_score on training Data: {:.3f}\".format(f1_score_train_forest))\n",
    "print(\"Random Forest : f1_score on test Data: {:.3f}\".format(f1_score_test_forest))\n",
    "print()\n",
    "\n",
    "recall_score_train_forest = metrics.recall_score(y_train,y_train_forest)\n",
    "recall_score_test_forest = metrics.recall_score(y_test,y_test_forest)\n",
    "print(\"Random Forest : Recall on training Data: {:.3f}\".format(recall_score_train_forest))\n",
    "print(\"Random Forest : Recall on test Data: {:.3f}\".format(recall_score_test_forest))\n",
    "print()\n",
    "\n",
    "precision_score_train_forest = metrics.precision_score(y_train,y_train_forest)\n",
    "precision_score_test_forest = metrics.precision_score(y_test,y_test_tree)\n",
    "print(\"Random Forest : precision on training Data: {:.3f}\".format(precision_score_train_forest))\n",
    "print(\"Random Forest : precision on test Data: {:.3f}\".format(precision_score_test_forest))"
   ]
  },
  {
   "cell_type": "code",
   "execution_count": 42,
   "id": "fb33464b",
   "metadata": {},
   "outputs": [
    {
     "name": "stdout",
     "output_type": "stream",
     "text": [
      "              precision    recall  f1-score   support\n",
      "\n",
      "          -1       0.96      0.95      0.96       983\n",
      "           1       0.96      0.97      0.96      1228\n",
      "\n",
      "    accuracy                           0.96      2211\n",
      "   macro avg       0.96      0.96      0.96      2211\n",
      "weighted avg       0.96      0.96      0.96      2211\n",
      "\n"
     ]
    }
   ],
   "source": [
    "#computing the classification report of the model\n",
    "\n",
    "print(metrics.classification_report(y_test, y_test_forest))"
   ]
  },
  {
   "cell_type": "code",
   "execution_count": 43,
   "id": "4f10c481",
   "metadata": {},
   "outputs": [
    {
     "data": {
      "image/png": "[encoded data removed]",
      "text/plain": [
       "<Figure size 640x480 with 1 Axes>"
      ]
     },
     "metadata": {},
     "output_type": "display_data"
    }
   ],
   "source": [
    "training_accuracy = []\n",
    "test_accuracy = []\n",
    "# try max_depth from 1 to 20\n",
    "depth = range(1,20)\n",
    "for n in depth:\n",
    "    forest_test =  RandomForestClassifier(n_estimators=n)\n",
    "\n",
    "    forest_test.fit(X_train, y_train)\n",
    "    # record training set accuracy\n",
    "    training_accuracy.append(forest_test.score(X_train, y_train))\n",
    "    # record generalization accuracy\n",
    "    test_accuracy.append(forest_test.score(X_test, y_test))\n",
    "    \n",
    "\n",
    "#plotting the training & testing accuracy for n_estimators from 1 to 20\n",
    "plt.figure(figsize=None)\n",
    "plt.plot(depth, training_accuracy, label=\"training accuracy\")\n",
    "plt.plot(depth, test_accuracy, label=\"test accuracy\")\n",
    "plt.ylabel(\"Accuracy\")  \n",
    "plt.xlabel(\"n_estimators\")\n",
    "plt.legend();"
   ]
  },
  {
   "cell_type": "code",
   "execution_count": 44,
   "id": "310a4d15",
   "metadata": {},
   "outputs": [],
   "source": [
    "#storing the results. The below mentioned order of parameter passing is important.\n",
    "\n",
    "storeResults('Random Forest',acc_test_forest,f1_score_test_forest,\n",
    "             recall_score_train_forest,precision_score_train_forest)"
   ]
  },
  {
   "cell_type": "markdown",
   "id": "08ba9a1a",
   "metadata": {},
   "source": [
    "## 7.Gradient Boosting Classifier"
   ]
  },
  {
   "cell_type": "code",
   "execution_count": 45,
   "id": "46672600",
   "metadata": {},
   "outputs": [
    {
     "data": {
      "text/plain": [
       "GradientBoostingClassifier(learning_rate=0.7, max_depth=4)"
      ]
     },
     "execution_count": 45,
     "metadata": {},
     "output_type": "execute_result"
    }
   ],
   "source": [
    "# Gradient Boosting Classifier Model\n",
    "from sklearn.ensemble import GradientBoostingClassifier\n",
    "\n",
    "# instantiate the model\n",
    "gbc = GradientBoostingClassifier(max_depth=4,learning_rate=0.7)\n",
    "\n",
    "# fit the model \n",
    "gbc.fit(X_train,y_train)"
   ]
  },
  {
   "cell_type": "code",
   "execution_count": 46,
   "id": "1abd4a9e",
   "metadata": {},
   "outputs": [],
   "source": [
    "#predicting the target value from the model for the samples\n",
    "y_train_gbc = gbc.predict(X_train)\n",
    "y_test_gbc = gbc.predict(X_test)"
   ]
  },
  {
   "cell_type": "code",
   "execution_count": 47,
   "id": "4c8ea93d",
   "metadata": {},
   "outputs": [
    {
     "name": "stdout",
     "output_type": "stream",
     "text": [
      "Gradient Boosting Classifier : Accuracy on training Data: 0.976\n",
      "Gradient Boosting Classifier : Accuracy on test Data: 0.964\n",
      "\n",
      "Gradient Boosting Classifier : f1_score on training Data: 0.979\n",
      "Gradient Boosting Classifier : f1_score on test Data: 0.968\n",
      "\n",
      "Gradient Boosting Classifier : Recall on training Data: 0.983\n",
      "Gradient Boosting Classifier : Recall on test Data: 0.974\n",
      "\n",
      "Gradient Boosting Classifier : precision on training Data: 0.975\n",
      "Gradient Boosting Classifier : precision on test Data: 0.961\n"
     ]
    }
   ],
   "source": [
    "#computing the accuracy, f1_score, Recall, precision of the model performance\n",
    "\n",
    "acc_train_gbc = metrics.accuracy_score(y_train,y_train_gbc)\n",
    "acc_test_gbc = metrics.accuracy_score(y_test,y_test_gbc)\n",
    "print(\"Gradient Boosting Classifier : Accuracy on training Data: {:.3f}\".format(acc_train_gbc))\n",
    "print(\"Gradient Boosting Classifier : Accuracy on test Data: {:.3f}\".format(acc_test_gbc))\n",
    "print()\n",
    "\n",
    "f1_score_train_gbc = metrics.f1_score(y_train,y_train_gbc)\n",
    "f1_score_test_gbc = metrics.f1_score(y_test,y_test_gbc)\n",
    "print(\"Gradient Boosting Classifier : f1_score on training Data: {:.3f}\".format(f1_score_train_gbc))\n",
    "print(\"Gradient Boosting Classifier : f1_score on test Data: {:.3f}\".format(f1_score_test_gbc))\n",
    "print()\n",
    "\n",
    "recall_score_train_gbc = metrics.recall_score(y_train,y_train_gbc)\n",
    "recall_score_test_gbc =  metrics.recall_score(y_test,y_test_gbc)\n",
    "print(\"Gradient Boosting Classifier : Recall on training Data: {:.3f}\".format(recall_score_train_gbc))\n",
    "print(\"Gradient Boosting Classifier : Recall on test Data: {:.3f}\".format(recall_score_test_gbc))\n",
    "print()\n",
    "\n",
    "precision_score_train_gbc = metrics.precision_score(y_train,y_train_gbc)\n",
    "precision_score_test_gbc = metrics.precision_score(y_test,y_test_gbc)\n",
    "print(\"Gradient Boosting Classifier : precision on training Data: {:.3f}\".format(precision_score_train_gbc))\n",
    "print(\"Gradient Boosting Classifier : precision on test Data: {:.3f}\".format(precision_score_test_gbc))"
   ]
  },
  {
   "cell_type": "code",
   "execution_count": 48,
   "id": "1f7959d8",
   "metadata": {},
   "outputs": [
    {
     "name": "stdout",
     "output_type": "stream",
     "text": [
      "              precision    recall  f1-score   support\n",
      "\n",
      "          -1       0.97      0.95      0.96       983\n",
      "           1       0.96      0.97      0.97      1228\n",
      "\n",
      "    accuracy                           0.96      2211\n",
      "   macro avg       0.96      0.96      0.96      2211\n",
      "weighted avg       0.96      0.96      0.96      2211\n",
      "\n"
     ]
    }
   ],
   "source": [
    "#computing the classification report of the model\n",
    "\n",
    "print(metrics.classification_report(y_test, y_test_gbc))"
   ]
  },
  {
   "cell_type": "code",
   "execution_count": 49,
   "id": "7e310444",
   "metadata": {},
   "outputs": [
    {
     "data": {
      "image/png": "[encoded data removed]",
      "text/plain": [
       "<Figure size 640x480 with 1 Axes>"
      ]
     },
     "metadata": {},
     "output_type": "display_data"
    }
   ],
   "source": [
    "training_accuracy = []\n",
    "test_accuracy = []\n",
    "# try learning_rate from 0.1 to 0.9\n",
    "depth = range(1,10)\n",
    "for n in depth:\n",
    "    forest_test =  GradientBoostingClassifier(learning_rate = n*0.1)\n",
    "\n",
    "    forest_test.fit(X_train, y_train)\n",
    "    # record training set accuracy\n",
    "    training_accuracy.append(forest_test.score(X_train, y_train))\n",
    "    # record generalization accuracy\n",
    "    test_accuracy.append(forest_test.score(X_test, y_test))\n",
    "    \n",
    "\n",
    "#plotting the training & testing accuracy for n_estimators from 1 to 50\n",
    "plt.figure(figsize=None)\n",
    "plt.plot(depth, training_accuracy, label=\"training accuracy\")\n",
    "plt.plot(depth, test_accuracy, label=\"test accuracy\")\n",
    "plt.ylabel(\"Accuracy\")  \n",
    "plt.xlabel(\"learning_rate\")\n",
    "plt.legend();"
   ]
  },
  {
   "cell_type": "code",
   "execution_count": 50,
   "id": "2c07912f",
   "metadata": {},
   "outputs": [
    {
     "data": {
      "image/png": "[encoded data removed]",
      "text/plain": [
       "<Figure size 640x480 with 1 Axes>"
      ]
     },
     "metadata": {},
     "output_type": "display_data"
    }
   ],
   "source": [
    "training_accuracy = []\n",
    "test_accuracy = []\n",
    "# try learning_rate from 0.1 to 0.9\n",
    "depth = range(1,10,1)\n",
    "for n in depth:\n",
    "    forest_test =  GradientBoostingClassifier(max_depth=n,learning_rate = 0.7)\n",
    "\n",
    "    forest_test.fit(X_train, y_train)\n",
    "    # record training set accuracy\n",
    "    training_accuracy.append(forest_test.score(X_train, y_train))\n",
    "    # record generalization accuracy\n",
    "    test_accuracy.append(forest_test.score(X_test, y_test))\n",
    "    \n",
    "\n",
    "#plotting the training & testing accuracy for n_estimators from 1 to 50\n",
    "plt.figure(figsize=None)\n",
    "plt.plot(depth, training_accuracy, label=\"training accuracy\")\n",
    "plt.plot(depth, test_accuracy, label=\"test accuracy\")\n",
    "plt.ylabel(\"Accuracy\")  \n",
    "plt.xlabel(\"max_depth\")\n",
    "plt.legend();"
   ]
  },
  {
   "cell_type": "code",
   "execution_count": 51,
   "id": "660fe8b1",
   "metadata": {},
   "outputs": [],
   "source": [
    "#storing the results. The below mentioned order of parameter passing is important.\n",
    "\n",
    "storeResults('Gradient Boosting Classifier',acc_test_gbc,f1_score_test_gbc,\n",
    "             recall_score_train_gbc,precision_score_train_gbc)"
   ]
  },
  {
   "cell_type": "markdown",
   "id": "85e3d3e0",
   "metadata": {},
   "source": [
    "## 8. XGBoost Classifier\n"
   ]
  },
  {
   "cell_type": "code",
   "execution_count": 52,
   "id": "b340bc9b",
   "metadata": {},
   "outputs": [
    {
     "name": "stdout",
     "output_type": "stream",
     "text": [
      "[23:48:34] WARNING: ..\\src\\learner.cc:1115: Starting in XGBoost 1.3.0, the default evaluation metric used with the objective 'binary:logistic' was changed from 'error' to 'logloss'. Explicitly set eval_metric if you'd like to restore the old behavior.\n"
     ]
    },
    {
     "data": {
      "text/plain": [
       "XGBClassifier(base_score=0.5, booster='gbtree', colsample_bylevel=1,\n",
       "              colsample_bynode=1, colsample_bytree=1, enable_categorical=False,\n",
       "              gamma=0, gpu_id=-1, importance_type=None,\n",
       "              interaction_constraints='', learning_rate=0.300000012,\n",
       "              max_delta_step=0, max_depth=6, min_child_weight=1, missing=nan,\n",
       "              monotone_constraints='()', n_estimators=100, n_jobs=4,\n",
       "              num_parallel_tree=1, predictor='auto', random_state=0,\n",
       "              reg_alpha=0, reg_lambda=1, scale_pos_weight=1, subsample=1,\n",
       "              tree_method='exact', validate_parameters=1, verbosity=None)"
      ]
     },
     "execution_count": 52,
     "metadata": {},
     "output_type": "execute_result"
    }
   ],
   "source": [
    "#  XGBoost Classifier Model\n",
    "from xgboost import XGBClassifier\n",
    "\n",
    "from sklearn.preprocessing import LabelEncoder\n",
    "le = LabelEncoder()\n",
    "y_train = le.fit_transform(y_train)\n",
    "\n",
    "# instantiate the model\n",
    "xgb = XGBClassifier()\n",
    "\n",
    "# fit the model \n",
    "xgb.fit(X_train,y_train)"
   ]
  },
  {
   "cell_type": "code",
   "execution_count": 53,
   "id": "145048a1",
   "metadata": {},
   "outputs": [],
   "source": [
    "#predicting the target value from the model for the samples\n",
    "y_train_xgb = xgb.predict(X_train)\n",
    "y_test_xgb = xgb.predict(X_test)\n",
    "#y_pred = le.inverse_transform(y_pred)"
   ]
  },
  {
   "cell_type": "code",
   "execution_count": 54,
   "id": "dbb29de7",
   "metadata": {},
   "outputs": [
    {
     "name": "stdout",
     "output_type": "stream",
     "text": [
      "XGBoost Classifier : Accuracy on training Data: 0.975\n",
      "XGBoost Classifier : Accuracy on test Data: 0.541\n",
      "\n",
      "XGBoost Classifier : f1_score on training Data: 0.978\n",
      "XGBoost Classifier : f1_score on test Data: 0.541\n",
      "\n",
      "XGBoost Classifier : Recall on training Data: 0.984\n",
      "XGBoost Classifier : Recall on test Data: 0.984\n",
      "\n",
      "XGBoost Classifier : precision on training Data: 0.972\n",
      "XGBoost Classifier : precision on test Data: 0.972\n"
     ]
    }
   ],
   "source": [
    "#computing the accuracy, f1_score, Recall, precision of the model performance\n",
    "\n",
    "acc_train_xgb = metrics.accuracy_score(y_train,y_train_xgb)\n",
    "acc_test_xgb = metrics.accuracy_score(y_test,y_test_xgb)\n",
    "print(\"XGBoost Classifier : Accuracy on training Data: {:.3f}\".format(acc_train_xgb))\n",
    "print(\"XGBoost Classifier : Accuracy on test Data: {:.3f}\".format(acc_test_xgb))\n",
    "print()\n",
    "\n",
    "f1_score_train_xgb = metrics.f1_score(y_train,y_train_xgb)\n",
    "f1_score_test_xgb = metrics.f1_score(y_test,y_test_xgb,pos_label='positive',average='micro')\n",
    "print(\"XGBoost Classifier : f1_score on training Data: {:.3f}\".format(f1_score_train_xgb))\n",
    "print(\"XGBoost Classifier : f1_score on test Data: {:.3f}\".format(f1_score_test_xgb))\n",
    "print()\n",
    "\n",
    "recall_score_train_xgb = metrics.recall_score(y_train,y_train_xgb)\n",
    "recall_score_test_xgb = metrics.recall_score(y_test,y_test_xgb,pos_label='positive',average='micro')\n",
    "print(\"XGBoost Classifier : Recall on training Data: {:.3f}\".format(recall_score_train_xgb))\n",
    "print(\"XGBoost Classifier : Recall on test Data: {:.3f}\".format(recall_score_train_xgb))\n",
    "print()\n",
    "\n",
    "precision_score_train_xgb = metrics.precision_score(y_train,y_train_xgb)\n",
    "precision_score_test_xgb = metrics.precision_score(y_test,y_test_xgb,pos_label='positive',average='micro')\n",
    "print(\"XGBoost Classifier : precision on training Data: {:.3f}\".format(precision_score_train_xgb))\n",
    "print(\"XGBoost Classifier : precision on test Data: {:.3f}\".format(precision_score_train_xgb))"
   ]
  },
  {
   "cell_type": "code",
   "execution_count": 55,
   "id": "4b43d60b",
   "metadata": {},
   "outputs": [],
   "source": [
    "#storing the results. The below mentioned order of parameter passing is important.\n",
    "\n",
    "storeResults('XGBoost Classifier',acc_test_xgb,f1_score_test_xgb,\n",
    "             recall_score_train_xgb,precision_score_train_xgb)"
   ]
  },
  {
   "cell_type": "markdown",
   "id": "c87f8a55",
   "metadata": {},
   "source": [
    "# 9. Multi-layer Perceptron classifier"
   ]
  },
  {
   "cell_type": "code",
   "execution_count": 56,
   "id": "5bfc3ea7",
   "metadata": {},
   "outputs": [
    {
     "data": {
      "text/plain": [
       "MLPClassifier()"
      ]
     },
     "execution_count": 56,
     "metadata": {},
     "output_type": "execute_result"
    }
   ],
   "source": [
    "# Multi-layer Perceptron Classifier Model\n",
    "from sklearn.neural_network import MLPClassifier\n",
    "\n",
    "# instantiate the model\n",
    "mlp = MLPClassifier()\n",
    "#mlp = GridSearchCV(mlpc, parameter_space)\n",
    "\n",
    "# fit the model \n",
    "mlp.fit(X_train,y_train)"
   ]
  },
  {
   "cell_type": "code",
   "execution_count": 57,
   "id": "2cf7f1af",
   "metadata": {},
   "outputs": [],
   "source": [
    "#predicting the target value from the model for the samples\n",
    "y_train_mlp = mlp.predict(X_train)\n",
    "y_test_mlp = mlp.predict(X_test)"
   ]
  },
  {
   "cell_type": "code",
   "execution_count": 58,
   "id": "d68aa680",
   "metadata": {},
   "outputs": [
    {
     "name": "stdout",
     "output_type": "stream",
     "text": [
      "Multi-layer Perceptron : Accuracy on training Data: 0.973\n",
      "Multi-layer Perceptron : Accuracy on test Data: 0.532\n",
      "\n",
      "Multi-layer Perceptron : f1_score on training Data: 0.975\n",
      "Multi-layer Perceptron : f1_score on test Data: 0.975\n",
      "\n",
      "Multi-layer Perceptron : Recall on training Data: 0.974\n",
      "Multi-layer Perceptron : Recall on test Data: 0.532\n",
      "\n",
      "Multi-layer Perceptron : precision on training Data: 0.977\n",
      "Multi-layer Perceptron : precision on test Data: 0.532\n"
     ]
    }
   ],
   "source": [
    "#computing the accuracy, f1_score, Recall, precision of the model performance\n",
    "\n",
    "acc_train_mlp  = metrics.accuracy_score(y_train,y_train_mlp)\n",
    "acc_test_mlp = metrics.accuracy_score(y_test,y_test_mlp)\n",
    "print(\"Multi-layer Perceptron : Accuracy on training Data: {:.3f}\".format(acc_train_mlp))\n",
    "print(\"Multi-layer Perceptron : Accuracy on test Data: {:.3f}\".format(acc_test_mlp))\n",
    "print()\n",
    "\n",
    "f1_score_train_mlp = metrics.f1_score(y_train,y_train_mlp)\n",
    "f1_score_test_mlp = metrics.f1_score(y_test,y_test_mlp,pos_label='positive',average='micro')\n",
    "print(\"Multi-layer Perceptron : f1_score on training Data: {:.3f}\".format(f1_score_train_mlp))\n",
    "print(\"Multi-layer Perceptron : f1_score on test Data: {:.3f}\".format(f1_score_train_mlp))\n",
    "print()\n",
    "\n",
    "recall_score_train_mlp = metrics.recall_score(y_train,y_train_mlp)\n",
    "recall_score_test_mlp = metrics.recall_score(y_test,y_test_mlp,pos_label='positive',average='micro')\n",
    "print(\"Multi-layer Perceptron : Recall on training Data: {:.3f}\".format(recall_score_train_mlp))\n",
    "print(\"Multi-layer Perceptron : Recall on test Data: {:.3f}\".format(recall_score_test_mlp))\n",
    "print()\n",
    "\n",
    "precision_score_train_mlp = metrics.precision_score(y_train,y_train_mlp)\n",
    "precision_score_test_mlp = metrics.precision_score(y_test,y_test_mlp,pos_label='positive',average='micro')\n",
    "print(\"Multi-layer Perceptron : precision on training Data: {:.3f}\".format(precision_score_train_mlp))\n",
    "print(\"Multi-layer Perceptron : precision on test Data: {:.3f}\".format(precision_score_test_mlp))"
   ]
  },
  {
   "cell_type": "code",
   "execution_count": 59,
   "id": "8983b248",
   "metadata": {},
   "outputs": [],
   "source": [
    "#storing the results. The below mentioned order of parameter passing is important.\n",
    "\n",
    "storeResults('Multi-layer Perceptron',acc_test_mlp,f1_score_test_mlp,\n",
    "             recall_score_train_mlp,precision_score_train_mlp)"
   ]
  },
  {
   "cell_type": "markdown",
   "id": "2cef57ca",
   "metadata": {},
   "source": [
    "##  Comparision of Models\n",
    "To compare the models performance, a dataframe is created. The columns of this dataframe are the lists created to store the results of the model."
   ]
  },
  {
   "cell_type": "code",
   "execution_count": 60,
   "id": "bcddf7ae",
   "metadata": {},
   "outputs": [],
   "source": [
    "#creating dataframe\n",
    "result = pd.DataFrame({ 'ML Model' : ML_Model,\n",
    "                        'Accuracy' : accuracy,\n",
    "                        'f1_score' : f1_score,\n",
    "                        'Recall'   : recall,\n",
    "                        'Precision': precision,\n",
    "                      })"
   ]
  },
  {
   "cell_type": "code",
   "execution_count": 61,
   "id": "6851e518",
   "metadata": {},
   "outputs": [
    {
     "data": {
      "text/html": [
       "<div>\n",
       "<style scoped>\n",
       "    .dataframe tbody tr th:only-of-type {\n",
       "        vertical-align: middle;\n",
       "    }\n",
       "\n",
       "    .dataframe tbody tr th {\n",
       "        vertical-align: top;\n",
       "    }\n",
       "\n",
       "    .dataframe thead th {\n",
       "        text-align: right;\n",
       "    }\n",
       "</style>\n",
       "<table border=\"1\" class=\"dataframe\">\n",
       "  <thead>\n",
       "    <tr style=\"text-align: right;\">\n",
       "      <th></th>\n",
       "      <th>ML Model</th>\n",
       "      <th>Accuracy</th>\n",
       "      <th>f1_score</th>\n",
       "      <th>Recall</th>\n",
       "      <th>Precision</th>\n",
       "    </tr>\n",
       "  </thead>\n",
       "  <tbody>\n",
       "    <tr>\n",
       "      <th>0</th>\n",
       "      <td>Logistic Regression</td>\n",
       "      <td>0.924</td>\n",
       "      <td>0.933</td>\n",
       "      <td>0.939</td>\n",
       "      <td>0.917</td>\n",
       "    </tr>\n",
       "    <tr>\n",
       "      <th>1</th>\n",
       "      <td>K-Nearest Neighbors</td>\n",
       "      <td>0.941</td>\n",
       "      <td>0.947</td>\n",
       "      <td>0.973</td>\n",
       "      <td>0.973</td>\n",
       "    </tr>\n",
       "    <tr>\n",
       "      <th>2</th>\n",
       "      <td>Support Vector Machine</td>\n",
       "      <td>0.947</td>\n",
       "      <td>0.953</td>\n",
       "      <td>0.972</td>\n",
       "      <td>0.951</td>\n",
       "    </tr>\n",
       "    <tr>\n",
       "      <th>3</th>\n",
       "      <td>Naive Bayes Classifier</td>\n",
       "      <td>0.581</td>\n",
       "      <td>0.395</td>\n",
       "      <td>0.246</td>\n",
       "      <td>1.000</td>\n",
       "    </tr>\n",
       "    <tr>\n",
       "      <th>4</th>\n",
       "      <td>Decision Tree</td>\n",
       "      <td>0.957</td>\n",
       "      <td>0.961</td>\n",
       "      <td>0.983</td>\n",
       "      <td>0.979</td>\n",
       "    </tr>\n",
       "    <tr>\n",
       "      <th>5</th>\n",
       "      <td>Random Forest</td>\n",
       "      <td>0.960</td>\n",
       "      <td>0.964</td>\n",
       "      <td>0.986</td>\n",
       "      <td>0.975</td>\n",
       "    </tr>\n",
       "    <tr>\n",
       "      <th>6</th>\n",
       "      <td>Gradient Boosting Classifier</td>\n",
       "      <td>0.964</td>\n",
       "      <td>0.968</td>\n",
       "      <td>0.983</td>\n",
       "      <td>0.975</td>\n",
       "    </tr>\n",
       "    <tr>\n",
       "      <th>7</th>\n",
       "      <td>XGBoost Classifier</td>\n",
       "      <td>0.541</td>\n",
       "      <td>0.541</td>\n",
       "      <td>0.984</td>\n",
       "      <td>0.972</td>\n",
       "    </tr>\n",
       "    <tr>\n",
       "      <th>8</th>\n",
       "      <td>Multi-layer Perceptron</td>\n",
       "      <td>0.532</td>\n",
       "      <td>0.532</td>\n",
       "      <td>0.974</td>\n",
       "      <td>0.977</td>\n",
       "    </tr>\n",
       "  </tbody>\n",
       "</table>\n",
       "</div>"
      ],
      "text/plain": [
       "                       ML Model  Accuracy  f1_score  Recall  Precision\n",
       "0           Logistic Regression     0.924     0.933   0.939      0.917\n",
       "1           K-Nearest Neighbors     0.941     0.947   0.973      0.973\n",
       "2        Support Vector Machine     0.947     0.953   0.972      0.951\n",
       "3        Naive Bayes Classifier     0.581     0.395   0.246      1.000\n",
       "4                 Decision Tree     0.957     0.961   0.983      0.979\n",
       "5                 Random Forest     0.960     0.964   0.986      0.975\n",
       "6  Gradient Boosting Classifier     0.964     0.968   0.983      0.975\n",
       "7            XGBoost Classifier     0.541     0.541   0.984      0.972\n",
       "8        Multi-layer Perceptron     0.532     0.532   0.974      0.977"
      ]
     },
     "execution_count": 61,
     "metadata": {},
     "output_type": "execute_result"
    }
   ],
   "source": [
    "# dispalying total result\n",
    "result"
   ]
  },
  {
   "cell_type": "code",
   "execution_count": 62,
   "id": "b5ec314b",
   "metadata": {},
   "outputs": [],
   "source": [
    "#Sorting the datafram on accuracy\n",
    "sorted_result=result.sort_values(by=['Accuracy', 'f1_score'],ascending=False).reset_index(drop=True)"
   ]
  },
  {
   "cell_type": "code",
   "execution_count": 63,
   "id": "bf364ad6",
   "metadata": {},
   "outputs": [
    {
     "data": {
      "text/html": [
       "<div>\n",
       "<style scoped>\n",
       "    .dataframe tbody tr th:only-of-type {\n",
       "        vertical-align: middle;\n",
       "    }\n",
       "\n",
       "    .dataframe tbody tr th {\n",
       "        vertical-align: top;\n",
       "    }\n",
       "\n",
       "    .dataframe thead th {\n",
       "        text-align: right;\n",
       "    }\n",
       "</style>\n",
       "<table border=\"1\" class=\"dataframe\">\n",
       "  <thead>\n",
       "    <tr style=\"text-align: right;\">\n",
       "      <th></th>\n",
       "      <th>ML Model</th>\n",
       "      <th>Accuracy</th>\n",
       "      <th>f1_score</th>\n",
       "      <th>Recall</th>\n",
       "      <th>Precision</th>\n",
       "    </tr>\n",
       "  </thead>\n",
       "  <tbody>\n",
       "    <tr>\n",
       "      <th>0</th>\n",
       "      <td>Gradient Boosting Classifier</td>\n",
       "      <td>0.964</td>\n",
       "      <td>0.968</td>\n",
       "      <td>0.983</td>\n",
       "      <td>0.975</td>\n",
       "    </tr>\n",
       "    <tr>\n",
       "      <th>1</th>\n",
       "      <td>Random Forest</td>\n",
       "      <td>0.960</td>\n",
       "      <td>0.964</td>\n",
       "      <td>0.986</td>\n",
       "      <td>0.975</td>\n",
       "    </tr>\n",
       "    <tr>\n",
       "      <th>2</th>\n",
       "      <td>Decision Tree</td>\n",
       "      <td>0.957</td>\n",
       "      <td>0.961</td>\n",
       "      <td>0.983</td>\n",
       "      <td>0.979</td>\n",
       "    </tr>\n",
       "    <tr>\n",
       "      <th>3</th>\n",
       "      <td>Support Vector Machine</td>\n",
       "      <td>0.947</td>\n",
       "      <td>0.953</td>\n",
       "      <td>0.972</td>\n",
       "      <td>0.951</td>\n",
       "    </tr>\n",
       "    <tr>\n",
       "      <th>4</th>\n",
       "      <td>K-Nearest Neighbors</td>\n",
       "      <td>0.941</td>\n",
       "      <td>0.947</td>\n",
       "      <td>0.973</td>\n",
       "      <td>0.973</td>\n",
       "    </tr>\n",
       "    <tr>\n",
       "      <th>5</th>\n",
       "      <td>Logistic Regression</td>\n",
       "      <td>0.924</td>\n",
       "      <td>0.933</td>\n",
       "      <td>0.939</td>\n",
       "      <td>0.917</td>\n",
       "    </tr>\n",
       "    <tr>\n",
       "      <th>6</th>\n",
       "      <td>Naive Bayes Classifier</td>\n",
       "      <td>0.581</td>\n",
       "      <td>0.395</td>\n",
       "      <td>0.246</td>\n",
       "      <td>1.000</td>\n",
       "    </tr>\n",
       "    <tr>\n",
       "      <th>7</th>\n",
       "      <td>XGBoost Classifier</td>\n",
       "      <td>0.541</td>\n",
       "      <td>0.541</td>\n",
       "      <td>0.984</td>\n",
       "      <td>0.972</td>\n",
       "    </tr>\n",
       "    <tr>\n",
       "      <th>8</th>\n",
       "      <td>Multi-layer Perceptron</td>\n",
       "      <td>0.532</td>\n",
       "      <td>0.532</td>\n",
       "      <td>0.974</td>\n",
       "      <td>0.977</td>\n",
       "    </tr>\n",
       "  </tbody>\n",
       "</table>\n",
       "</div>"
      ],
      "text/plain": [
       "                       ML Model  Accuracy  f1_score  Recall  Precision\n",
       "0  Gradient Boosting Classifier     0.964     0.968   0.983      0.975\n",
       "1                 Random Forest     0.960     0.964   0.986      0.975\n",
       "2                 Decision Tree     0.957     0.961   0.983      0.979\n",
       "3        Support Vector Machine     0.947     0.953   0.972      0.951\n",
       "4           K-Nearest Neighbors     0.941     0.947   0.973      0.973\n",
       "5           Logistic Regression     0.924     0.933   0.939      0.917\n",
       "6        Naive Bayes Classifier     0.581     0.395   0.246      1.000\n",
       "7            XGBoost Classifier     0.541     0.541   0.984      0.972\n",
       "8        Multi-layer Perceptron     0.532     0.532   0.974      0.977"
      ]
     },
     "execution_count": 63,
     "metadata": {},
     "output_type": "execute_result"
    }
   ],
   "source": [
    "# dispalying total result\n",
    "sorted_result"
   ]
  },
  {
   "cell_type": "markdown",
   "id": "26cd1618",
   "metadata": {},
   "source": [
    "## Storing Best Model"
   ]
  },
  {
   "cell_type": "code",
   "execution_count": 64,
   "id": "8280bba0",
   "metadata": {},
   "outputs": [
    {
     "data": {
      "text/plain": [
       "GradientBoostingClassifier(learning_rate=0.7, max_depth=4)"
      ]
     },
     "execution_count": 64,
     "metadata": {},
     "output_type": "execute_result"
    }
   ],
   "source": [
    "# Gradient Boosting Classifier Model\n",
    "from sklearn.ensemble import GradientBoostingClassifier\n",
    "\n",
    "# instantiate the model\n",
    "gbc = GradientBoostingClassifier(max_depth=4,learning_rate=0.7)\n",
    "\n",
    "# fit the model \n",
    "gbc.fit(X_train,y_train)"
   ]
  },
  {
   "cell_type": "code",
   "execution_count": 65,
   "id": "74208873",
   "metadata": {},
   "outputs": [],
   "source": [
    "import pickle\n",
    "\n",
    "# dump information to that file\n",
    "pickle.dump(gbc, open('pickle/model.pkl', 'wb'))"
   ]
  },
  {
   "cell_type": "code",
   "execution_count": 66,
   "id": "b594a036",
   "metadata": {},
   "outputs": [
    {
     "data": {
      "image/png": "[encoded data removed]",
      "text/plain": [
       "<Figure size 900x700 with 1 Axes>"
      ]
     },
     "metadata": {},
     "output_type": "display_data"
    }
   ],
   "source": [
    "#checking the feature improtance in the model\n",
    "plt.figure(figsize=(9,7))\n",
    "n_features = X_train.shape[1]\n",
    "plt.barh(range(n_features), gbc.feature_importances_, align='center')\n",
    "plt.yticks(np.arange(n_features), X_train.columns)\n",
    "plt.title(\"Feature importances using permutation on full model\")\n",
    "plt.xlabel(\"Feature importance\")\n",
    "plt.ylabel(\"Feature\")\n",
    "plt.show()"
   ]
  },
  {
   "cell_type": "code",
   "execution_count": 67,
   "id": "dc018bf7",
   "metadata": {},
   "outputs": [
    {
     "data": {
      "image/png": "[encoded data removed]",
      "text/plain": [
       "<Figure size 600x2000 with 2 Axes>"
      ]
     },
     "metadata": {},
     "output_type": "display_data"
    }
   ],
   "source": [
    "#Heatmap\n",
    "plt.figure(figsize=(6,20))\n",
    "sns.heatmap(data.corr()[['class']].sort_values('class', ascending=False), annot=True);"
   ]
  },
  {
   "cell_type": "code",
   "execution_count": null,
   "id": "6d0bb194",
   "metadata": {},
   "outputs": [],
   "source": []
  }
 ],
 "metadata": {
  "kernelspec": {
   "display_name": "Python 3 (ipykernel)",
   "language": "python",
   "name": "python3"
  },
  "language_info": {
   "codemirror_mode": {
    "name": "ipython",
    "version": 3
   },
   "file_extension": ".py",
   "mimetype": "text/x-python",
   "name": "python",
   "nbconvert_exporter": "python",
   "pygments_lexer": "ipython3",
   "version": "3.9.13"
  },
  "vscode": {
   "interpreter": {
    "hash": "a4868653bb6f8972e87e4c446ab8a445a15b25dedb8594cc74c480f8152ea86a"
   }
  }
 },
 "nbformat": 4,
 "nbformat_minor": 5
}
